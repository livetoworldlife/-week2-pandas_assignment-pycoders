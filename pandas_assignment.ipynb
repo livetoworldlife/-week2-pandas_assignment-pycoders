{
 "nbformat": 4,
 "nbformat_minor": 2,
 "metadata": {
  "language_info": {
   "name": "python",
   "codemirror_mode": {
    "name": "ipython",
    "version": 3
   },
   "version": "3.8.1-final"
  },
  "orig_nbformat": 2,
  "file_extension": ".py",
  "mimetype": "text/x-python",
  "name": "python",
  "npconvert_exporter": "python",
  "pygments_lexer": "ipython3",
  "version": 3,
  "kernelspec": {
   "name": "python38164bit1dba9a0565b5420da67a532c5434da6d",
   "display_name": "Python 3.8.1 64-bit"
  }
 },
 "cells": [
  {
   "cell_type": "code",
   "execution_count": 1,
   "metadata": {},
   "outputs": [
    {
     "output_type": "execute_result",
     "data": {
      "text/plain": "    Sinif ismi Ogrenci Adi  Dogru Sayisi  Yanlis Sayisi  Bos Sayisi\n1      py_mind    emrullah            14              6           0\n2      py_mind       osman             9             11           0\n3      py_mind       ozgur             9             11           0\n4      py_mind       emrah             9             11           0\n5      py_mind        riza             7             12           1\n6      py_mind        zeyd            13              6           1\n7      py_mind        ufuk            15              2           3\n8      py_mind    Mehmet A            10             10           0\n9      py_mind     Murat Z             9             11           0\n10     py_mind       Hakan            14              6           0\n11  py_opinion     Emrah U            13              7           0\n12  py_opinion       Salih            10             10           0\n13  py_opinion     Murat O            14              6           0\n14  py_opinion       Aydin            10             10           0\n15  py_opinion      Ilhami            12              8           0\n16  py_opinion     Ibrahim             9             11           0\n17  py_opinion       Ensar             6             14           0\n18  py_opinion      Nazmi             15              5           0\n19  py_opinion    Mehmet K            13              7           0\n20  py_opinion        Naim            15              5           0\n21  py_science       dilek            17              2           1\n22  py_science       Zerin            15              1           4\n23  py_science       beyza            12              5           3\n24  py_science        Esra            12              8           0\n25  py_science       Sehri            20              0           0\n26  py_science    Emine S.            11              6           3\n27  py_science    Emine T.            16              3           1\n28  py_science      Rukiye             9              7           4\n29    py_sense     Ramazan            10             10           0\n30    py_sense       Faruk            16              4           0\n31    py_sense     Huseyin            14              6           0\n32    py_sense      Selcuk            11              9           0\n33    py_sense       Adnan            14              5           1\n34    py_sense        Kaya            11              9           0\n35    py_sense       Zafer            12              7           1\n36    py_sense     Mehmeta            11              9           0\n37    py_sense    Fikret Y            10             10           0\n38    py_sense       Emrah            11              9           0",
      "text/html": "<div>\n<style scoped>\n    .dataframe tbody tr th:only-of-type {\n        vertical-align: middle;\n    }\n\n    .dataframe tbody tr th {\n        vertical-align: top;\n    }\n\n    .dataframe thead th {\n        text-align: right;\n    }\n</style>\n<table border=\"1\" class=\"dataframe\">\n  <thead>\n    <tr style=\"text-align: right;\">\n      <th></th>\n      <th>Sinif ismi</th>\n      <th>Ogrenci Adi</th>\n      <th>Dogru Sayisi</th>\n      <th>Yanlis Sayisi</th>\n      <th>Bos Sayisi</th>\n    </tr>\n  </thead>\n  <tbody>\n    <tr>\n      <th>1</th>\n      <td>py_mind</td>\n      <td>emrullah</td>\n      <td>14</td>\n      <td>6</td>\n      <td>0</td>\n    </tr>\n    <tr>\n      <th>2</th>\n      <td>py_mind</td>\n      <td>osman</td>\n      <td>9</td>\n      <td>11</td>\n      <td>0</td>\n    </tr>\n    <tr>\n      <th>3</th>\n      <td>py_mind</td>\n      <td>ozgur</td>\n      <td>9</td>\n      <td>11</td>\n      <td>0</td>\n    </tr>\n    <tr>\n      <th>4</th>\n      <td>py_mind</td>\n      <td>emrah</td>\n      <td>9</td>\n      <td>11</td>\n      <td>0</td>\n    </tr>\n    <tr>\n      <th>5</th>\n      <td>py_mind</td>\n      <td>riza</td>\n      <td>7</td>\n      <td>12</td>\n      <td>1</td>\n    </tr>\n    <tr>\n      <th>6</th>\n      <td>py_mind</td>\n      <td>zeyd</td>\n      <td>13</td>\n      <td>6</td>\n      <td>1</td>\n    </tr>\n    <tr>\n      <th>7</th>\n      <td>py_mind</td>\n      <td>ufuk</td>\n      <td>15</td>\n      <td>2</td>\n      <td>3</td>\n    </tr>\n    <tr>\n      <th>8</th>\n      <td>py_mind</td>\n      <td>Mehmet A</td>\n      <td>10</td>\n      <td>10</td>\n      <td>0</td>\n    </tr>\n    <tr>\n      <th>9</th>\n      <td>py_mind</td>\n      <td>Murat Z</td>\n      <td>9</td>\n      <td>11</td>\n      <td>0</td>\n    </tr>\n    <tr>\n      <th>10</th>\n      <td>py_mind</td>\n      <td>Hakan</td>\n      <td>14</td>\n      <td>6</td>\n      <td>0</td>\n    </tr>\n    <tr>\n      <th>11</th>\n      <td>py_opinion</td>\n      <td>Emrah U</td>\n      <td>13</td>\n      <td>7</td>\n      <td>0</td>\n    </tr>\n    <tr>\n      <th>12</th>\n      <td>py_opinion</td>\n      <td>Salih</td>\n      <td>10</td>\n      <td>10</td>\n      <td>0</td>\n    </tr>\n    <tr>\n      <th>13</th>\n      <td>py_opinion</td>\n      <td>Murat O</td>\n      <td>14</td>\n      <td>6</td>\n      <td>0</td>\n    </tr>\n    <tr>\n      <th>14</th>\n      <td>py_opinion</td>\n      <td>Aydin</td>\n      <td>10</td>\n      <td>10</td>\n      <td>0</td>\n    </tr>\n    <tr>\n      <th>15</th>\n      <td>py_opinion</td>\n      <td>Ilhami</td>\n      <td>12</td>\n      <td>8</td>\n      <td>0</td>\n    </tr>\n    <tr>\n      <th>16</th>\n      <td>py_opinion</td>\n      <td>Ibrahim</td>\n      <td>9</td>\n      <td>11</td>\n      <td>0</td>\n    </tr>\n    <tr>\n      <th>17</th>\n      <td>py_opinion</td>\n      <td>Ensar</td>\n      <td>6</td>\n      <td>14</td>\n      <td>0</td>\n    </tr>\n    <tr>\n      <th>18</th>\n      <td>py_opinion</td>\n      <td>Nazmi</td>\n      <td>15</td>\n      <td>5</td>\n      <td>0</td>\n    </tr>\n    <tr>\n      <th>19</th>\n      <td>py_opinion</td>\n      <td>Mehmet K</td>\n      <td>13</td>\n      <td>7</td>\n      <td>0</td>\n    </tr>\n    <tr>\n      <th>20</th>\n      <td>py_opinion</td>\n      <td>Naim</td>\n      <td>15</td>\n      <td>5</td>\n      <td>0</td>\n    </tr>\n    <tr>\n      <th>21</th>\n      <td>py_science</td>\n      <td>dilek</td>\n      <td>17</td>\n      <td>2</td>\n      <td>1</td>\n    </tr>\n    <tr>\n      <th>22</th>\n      <td>py_science</td>\n      <td>Zerin</td>\n      <td>15</td>\n      <td>1</td>\n      <td>4</td>\n    </tr>\n    <tr>\n      <th>23</th>\n      <td>py_science</td>\n      <td>beyza</td>\n      <td>12</td>\n      <td>5</td>\n      <td>3</td>\n    </tr>\n    <tr>\n      <th>24</th>\n      <td>py_science</td>\n      <td>Esra</td>\n      <td>12</td>\n      <td>8</td>\n      <td>0</td>\n    </tr>\n    <tr>\n      <th>25</th>\n      <td>py_science</td>\n      <td>Sehri</td>\n      <td>20</td>\n      <td>0</td>\n      <td>0</td>\n    </tr>\n    <tr>\n      <th>26</th>\n      <td>py_science</td>\n      <td>Emine S.</td>\n      <td>11</td>\n      <td>6</td>\n      <td>3</td>\n    </tr>\n    <tr>\n      <th>27</th>\n      <td>py_science</td>\n      <td>Emine T.</td>\n      <td>16</td>\n      <td>3</td>\n      <td>1</td>\n    </tr>\n    <tr>\n      <th>28</th>\n      <td>py_science</td>\n      <td>Rukiye</td>\n      <td>9</td>\n      <td>7</td>\n      <td>4</td>\n    </tr>\n    <tr>\n      <th>29</th>\n      <td>py_sense</td>\n      <td>Ramazan</td>\n      <td>10</td>\n      <td>10</td>\n      <td>0</td>\n    </tr>\n    <tr>\n      <th>30</th>\n      <td>py_sense</td>\n      <td>Faruk</td>\n      <td>16</td>\n      <td>4</td>\n      <td>0</td>\n    </tr>\n    <tr>\n      <th>31</th>\n      <td>py_sense</td>\n      <td>Huseyin</td>\n      <td>14</td>\n      <td>6</td>\n      <td>0</td>\n    </tr>\n    <tr>\n      <th>32</th>\n      <td>py_sense</td>\n      <td>Selcuk</td>\n      <td>11</td>\n      <td>9</td>\n      <td>0</td>\n    </tr>\n    <tr>\n      <th>33</th>\n      <td>py_sense</td>\n      <td>Adnan</td>\n      <td>14</td>\n      <td>5</td>\n      <td>1</td>\n    </tr>\n    <tr>\n      <th>34</th>\n      <td>py_sense</td>\n      <td>Kaya</td>\n      <td>11</td>\n      <td>9</td>\n      <td>0</td>\n    </tr>\n    <tr>\n      <th>35</th>\n      <td>py_sense</td>\n      <td>Zafer</td>\n      <td>12</td>\n      <td>7</td>\n      <td>1</td>\n    </tr>\n    <tr>\n      <th>36</th>\n      <td>py_sense</td>\n      <td>Mehmeta</td>\n      <td>11</td>\n      <td>9</td>\n      <td>0</td>\n    </tr>\n    <tr>\n      <th>37</th>\n      <td>py_sense</td>\n      <td>Fikret Y</td>\n      <td>10</td>\n      <td>10</td>\n      <td>0</td>\n    </tr>\n    <tr>\n      <th>38</th>\n      <td>py_sense</td>\n      <td>Emrah</td>\n      <td>11</td>\n      <td>9</td>\n      <td>0</td>\n    </tr>\n  </tbody>\n</table>\n</div>"
     },
     "metadata": {},
     "execution_count": 1
    }
   ],
   "source": [
    "# Datalar klasöründeki datalari pandas dataframe ile okutup alttaki işlemleri yapiniz.\n",
    "# \t•\tTum ogrencilerin bilgilerini tek bir dataframe icinde su sutunlardan olusacak sekilde birlestiriniz; > \" Sinif ismi, Ogrenci Adi, Dogru Sayisi, Yanlis Sayisi, Bos Sayisi\" .\n",
    "\n",
    "import pandas as pd\n",
    "import numpy as np\n",
    "\n",
    "# exel file method\n",
    "py_mind = pd.ExcelFile(\"datalar/py_mind.xlsx\")\n",
    "py_opinion = pd.ExcelFile(\"datalar/py_opinion.xlsx\")\n",
    "py_science = pd.ExcelFile(\"datalar/py_science.xlsx\")\n",
    "py_sense = pd.ExcelFile(\"datalar/py_sense.xlsx\")\n",
    "\n",
    "# function for create data such as we need\n",
    "def dataConcater(fileName, filePath, myExcelFile):\n",
    "    # define lists for true,false and unanswered questions\n",
    "    dogru_list,yanlis_list,bos_list = [],[],[]\n",
    "    # get all sheet names in one exel file\n",
    "    fileSheetNamesList = myExcelFile.sheet_names\n",
    "    # find all dogru,yanlis and bos datas in each sheets\n",
    "    for i in fileSheetNamesList:\n",
    "        readFile = pd.read_excel(filePath, sheet_name=i)\n",
    "        getDogru = readFile[readFile.eq(\"Dogru\").any(1)]\n",
    "        getYanlis = readFile[readFile.eq(\"Yanlis\").any(1)]\n",
    "        getBos = readFile[readFile.eq(\"Bos\").any(1)]\n",
    "        dogru_list.append(getDogru.iloc[0, 1])\n",
    "        yanlis_list.append(getYanlis.iloc[0, 1])\n",
    "        bos_list.append(getBos.iloc[0, 1])\n",
    "    # create pandas dataframe for each exel file\n",
    "    veri = pd.DataFrame({\"Sinif ismi\": fileName, \"Ogrenci Adi\": fileSheetNamesList,\n",
    "                      \"Dogru Sayisi\": dogru_list, \"Yanlis Sayisi\": yanlis_list, \"Bos Sayisi\": bos_list})\n",
    "    return veri\n",
    "\n",
    "\n",
    "mind = dataConcater(\"py_mind\", \"datalar/py_mind.xlsx\", py_mind)\n",
    "opinion = dataConcater(\"py_opinion\", \"datalar/py_opinion.xlsx\", py_opinion)\n",
    "science = dataConcater(\"py_science\", \"datalar/py_science.xlsx\", py_science)\n",
    "sense = dataConcater(\"py_sense\", \"datalar/py_sense.xlsx\", py_sense)\n",
    "\n",
    "data = pd.concat([mind, opinion, science, sense], axis=0, ignore_index=True)\n",
    "# set index start from 1 to...\n",
    "new_index=np.arange(1,len(data[\"Ogrenci Adi\"])+1)\n",
    "data.set_index(new_index,inplace=True)\n",
    "data"
   ]
  },
  {
   "cell_type": "code",
   "execution_count": 3,
   "metadata": {},
   "outputs": [
    {
     "output_type": "execute_result",
     "data": {
      "text/plain": "38"
     },
     "metadata": {},
     "execution_count": 3
    }
   ],
   "source": [
    "# •\tSinava giren ogrenci sayisini hesaplayiniz.\n",
    "sinavaGirenOgrenciSayisi =data.index.stop                       # one way\n",
    "sinavaGirenOgrenciSayisi =data[\"Ogrenci Adi\"].count()           # other way\n",
    "sinavaGirenOgrenciSayisi "
   ]
  },
  {
   "cell_type": "code",
   "execution_count": 5,
   "metadata": {},
   "outputs": [
    {
     "output_type": "execute_result",
     "data": {
      "text/plain": "            Dogru Sayisi  Yanlis Sayisi  Bos Sayisi\nSinif ismi                                         \npy_mind             10.9            8.6         0.5\npy_opinion          11.7            8.3         0.0\npy_science          14.0            4.0         2.0\npy_sense            12.0            7.8         0.2",
      "text/html": "<div>\n<style scoped>\n    .dataframe tbody tr th:only-of-type {\n        vertical-align: middle;\n    }\n\n    .dataframe tbody tr th {\n        vertical-align: top;\n    }\n\n    .dataframe thead th {\n        text-align: right;\n    }\n</style>\n<table border=\"1\" class=\"dataframe\">\n  <thead>\n    <tr style=\"text-align: right;\">\n      <th></th>\n      <th>Dogru Sayisi</th>\n      <th>Yanlis Sayisi</th>\n      <th>Bos Sayisi</th>\n    </tr>\n    <tr>\n      <th>Sinif ismi</th>\n      <th></th>\n      <th></th>\n      <th></th>\n    </tr>\n  </thead>\n  <tbody>\n    <tr>\n      <th>py_mind</th>\n      <td>10.9</td>\n      <td>8.6</td>\n      <td>0.5</td>\n    </tr>\n    <tr>\n      <th>py_opinion</th>\n      <td>11.7</td>\n      <td>8.3</td>\n      <td>0.0</td>\n    </tr>\n    <tr>\n      <th>py_science</th>\n      <td>14.0</td>\n      <td>4.0</td>\n      <td>2.0</td>\n    </tr>\n    <tr>\n      <th>py_sense</th>\n      <td>12.0</td>\n      <td>7.8</td>\n      <td>0.2</td>\n    </tr>\n  </tbody>\n</table>\n</div>"
     },
     "metadata": {},
     "execution_count": 5
    }
   ],
   "source": [
    "# •\tSiniflarin ayri ayri Dogru yanlis bos ortalamalarini hesaplayiniz.\n",
    "siniflarinDYBortalamasi=data.groupby(\"Sinif ismi\").mean()\n",
    "siniflarinDYBortalamasi"
   ]
  },
  {
   "cell_type": "code",
   "execution_count": 6,
   "metadata": {},
   "outputs": [
    {
     "output_type": "execute_result",
     "data": {
      "text/plain": "    Sinif ismi Ogrenci Adi  Dogru Sayisi  Yanlis Sayisi  Bos Sayisi\n25  py_science       Sehri            20              0           0\n30    py_sense       Faruk            16              4           0\n18  py_opinion      Nazmi             15              5           0\n7      py_mind        ufuk            15              2           3",
      "text/html": "<div>\n<style scoped>\n    .dataframe tbody tr th:only-of-type {\n        vertical-align: middle;\n    }\n\n    .dataframe tbody tr th {\n        vertical-align: top;\n    }\n\n    .dataframe thead th {\n        text-align: right;\n    }\n</style>\n<table border=\"1\" class=\"dataframe\">\n  <thead>\n    <tr style=\"text-align: right;\">\n      <th></th>\n      <th>Sinif ismi</th>\n      <th>Ogrenci Adi</th>\n      <th>Dogru Sayisi</th>\n      <th>Yanlis Sayisi</th>\n      <th>Bos Sayisi</th>\n    </tr>\n  </thead>\n  <tbody>\n    <tr>\n      <th>25</th>\n      <td>py_science</td>\n      <td>Sehri</td>\n      <td>20</td>\n      <td>0</td>\n      <td>0</td>\n    </tr>\n    <tr>\n      <th>30</th>\n      <td>py_sense</td>\n      <td>Faruk</td>\n      <td>16</td>\n      <td>4</td>\n      <td>0</td>\n    </tr>\n    <tr>\n      <th>18</th>\n      <td>py_opinion</td>\n      <td>Nazmi</td>\n      <td>15</td>\n      <td>5</td>\n      <td>0</td>\n    </tr>\n    <tr>\n      <th>7</th>\n      <td>py_mind</td>\n      <td>ufuk</td>\n      <td>15</td>\n      <td>2</td>\n      <td>3</td>\n    </tr>\n  </tbody>\n</table>\n</div>"
     },
     "metadata": {},
     "execution_count": 6
    }
   ],
   "source": [
    "\t# •\tHer sinifin ayri ayri en basarili ogrencisini bulunuz.\n",
    "py_scienceEnBasarilisi=data[data[\"Sinif ismi\"]==\"py_science\"].sort_values(by=\"Dogru Sayisi\",ascending=False).head(1)\n",
    "py_mindEnBasarilisi=data[data[\"Sinif ismi\"]==\"py_mind\"].sort_values(by=\"Dogru Sayisi\",ascending=False).head(1)\n",
    "py_opinionEnBasarilisi=data[data[\"Sinif ismi\"]==\"py_opinion\"].sort_values(by=\"Dogru Sayisi\",ascending=False).head(1)\n",
    "py_senseEnBasarilisi=data[data[\"Sinif ismi\"]==\"py_sense\"].sort_values(by=\"Dogru Sayisi\",ascending=False).head(1)\n",
    "\n",
    "siniflarinEnBasarilisi=pd.concat([py_scienceEnBasarilisi,py_senseEnBasarilisi,py_opinionEnBasarilisi,py_mindEnBasarilisi])\n",
    "siniflarinEnBasarilisi"
   ]
  },
  {
   "cell_type": "code",
   "execution_count": 7,
   "metadata": {},
   "outputs": [
    {
     "output_type": "execute_result",
     "data": {
      "text/plain": "    Sinif ismi Ogrenci Adi  Dogru Sayisi  Yanlis Sayisi  Bos Sayisi\n25  py_science       Sehri            20              0           0\n21  py_science       dilek            17              2           1\n30    py_sense       Faruk            16              4           0",
      "text/html": "<div>\n<style scoped>\n    .dataframe tbody tr th:only-of-type {\n        vertical-align: middle;\n    }\n\n    .dataframe tbody tr th {\n        vertical-align: top;\n    }\n\n    .dataframe thead th {\n        text-align: right;\n    }\n</style>\n<table border=\"1\" class=\"dataframe\">\n  <thead>\n    <tr style=\"text-align: right;\">\n      <th></th>\n      <th>Sinif ismi</th>\n      <th>Ogrenci Adi</th>\n      <th>Dogru Sayisi</th>\n      <th>Yanlis Sayisi</th>\n      <th>Bos Sayisi</th>\n    </tr>\n  </thead>\n  <tbody>\n    <tr>\n      <th>25</th>\n      <td>py_science</td>\n      <td>Sehri</td>\n      <td>20</td>\n      <td>0</td>\n      <td>0</td>\n    </tr>\n    <tr>\n      <th>21</th>\n      <td>py_science</td>\n      <td>dilek</td>\n      <td>17</td>\n      <td>2</td>\n      <td>1</td>\n    </tr>\n    <tr>\n      <th>30</th>\n      <td>py_sense</td>\n      <td>Faruk</td>\n      <td>16</td>\n      <td>4</td>\n      <td>0</td>\n    </tr>\n  </tbody>\n</table>\n</div>"
     },
     "metadata": {},
     "execution_count": 7
    }
   ],
   "source": [
    "# •\tTum sinavin en basarili ilk 3 ogrencisini bulunuz.\n",
    "enBasariliUc=data.sort_values(by=\"Dogru Sayisi\",ascending=False).head(3)\n",
    "enBasariliUc"
   ]
  },
  {
   "cell_type": "code",
   "execution_count": 39,
   "metadata": {},
   "outputs": [
    {
     "output_type": "execute_result",
     "data": {
      "text/plain": "Sinif ismi\npy_mind       2.806738\npy_opinion    2.907844\npy_science    3.625308\npy_sense      2.000000\nName: Dogru Sayisi, dtype: float64"
     },
     "metadata": {},
     "execution_count": 39
    }
   ],
   "source": [
    "# •\tSiniflarin standart sapmalarini hesaplayiniz. (Dogru sayilari uzerinden)\n",
    "siniflarinSTD=data.groupby(\"Sinif ismi\")[\"Dogru Sayisi\"].std()\n",
    "siniflarinSTD"
   ]
  },
  {
   "cell_type": "code",
   "execution_count": 40,
   "metadata": {},
   "outputs": [
    {
     "output_type": "execute_result",
     "data": {
      "text/plain": "Dogru Sayisi     12.052632\nYanlis Sayisi     7.342105\nBos Sayisi        0.605263\ndtype: float64"
     },
     "metadata": {},
     "execution_count": 40
    }
   ],
   "source": [
    "# Sinavin dogru yanlis ve bos ortalamalarini hesaplayiniz.\n",
    "dybOrtalama=data.mean()\n",
    "dybOrtalama"
   ]
  },
  {
   "cell_type": "code",
   "execution_count": null,
   "metadata": {},
   "outputs": [],
   "source": []
  }
 ]
}